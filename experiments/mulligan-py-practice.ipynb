{
 "cells": [
  {
   "cell_type": "code",
   "execution_count": 1,
   "metadata": {},
   "outputs": [
    {
     "name": "stdout",
     "output_type": "stream",
     "text": [
      "Cumulative probabilities after 2 mulligans and up to 5 subsequent turns for drawing at least 1 cards from Group A:\n",
      "Turn 0: 0.9192314353303959\n",
      "Turn 1: 0.9295863795188067\n",
      "Turn 2: 0.9387310055553253\n",
      "Turn 3: 0.9467927153506772\n",
      "Turn 4: 0.9538870199705869\n",
      "Turn 5: 0.9601185037583455\n"
     ]
    }
   ],
   "source": [
    "from scipy.stats import hypergeom\n",
    "\n",
    "def calculate_mulligan_probability(deck_size, group_a_size, draw_size, desired_a_cards=1, mulligans=0):\n",
    "    \"\"\"\n",
    "    Calculate the cumulative probability of drawing at least `desired_a_cards` from Group A after the initial draw and N London Mulligans.\n",
    "    \"\"\"\n",
    "    total_draws = draw_size * (mulligans + 1)  # Total cards seen after mulligans\n",
    "    # The probability of drawing fewer than the desired number of Group A cards in these draws.\n",
    "    prob_less_than_desired_a = sum(hypergeom.pmf(k, deck_size, group_a_size, total_draws) for k in range(desired_a_cards))\n",
    "    # The complementary probability of drawing at least the desired number of Group A cards.\n",
    "    return 1 - prob_less_than_desired_a\n",
    "\n",
    "def calculate_cumulative_probability(deck_size, group_a_size, draw_size, desired_a_cards=1, mulligans=0, subsequent_turns=0):\n",
    "    \"\"\"\n",
    "    Calculate the cumulative probability of drawing at least `desired_a_cards` from Group A across mulligans and subsequent turns.\n",
    "    \"\"\"\n",
    "    probabilities = []\n",
    "\n",
    "    # Initial probability calculation after mulligans.\n",
    "    initial_prob = calculate_mulligan_probability(deck_size, group_a_size, draw_size, desired_a_cards, mulligans)\n",
    "    probabilities.append(initial_prob)\n",
    "\n",
    "    total_cards_seen = draw_size * (mulligans + 1)\n",
    "\n",
    "    for turn in range(1, subsequent_turns + 1):\n",
    "        total_cards_seen += 1\n",
    "        # Probability calculation for drawing fewer than the desired number of Group A cards.\n",
    "        prob_less_than_desired_a_up_to_this_turn = sum(hypergeom.pmf(k, deck_size, group_a_size, total_cards_seen) for k in range(desired_a_cards))\n",
    "        \n",
    "        prob_at_least_desired_a = 1 - prob_less_than_desired_a_up_to_this_turn\n",
    "        probabilities.append(prob_at_least_desired_a)\n",
    "\n",
    "    return probabilities\n",
    "\n",
    "# Example usage\n",
    "mulligans = 2\n",
    "subsequent_turns = 5\n",
    "desired_a_cards = 1\n",
    "cumulative_probabilities = calculate_cumulative_probability(deck_size=99, group_a_size=10, draw_size=7, desired_a_cards=desired_a_cards, mulligans=mulligans, subsequent_turns=subsequent_turns)\n",
    "\n",
    "print(f\"Cumulative probabilities after {mulligans} mulligans and up to {subsequent_turns} subsequent turns for drawing at least {desired_a_cards} cards from Group A:\")\n",
    "for turn, prob in enumerate(cumulative_probabilities, start=0):\n",
    "    print(f\"Turn {turn}: {prob}\")\n"
   ]
  }
 ],
 "metadata": {
  "kernelspec": {
   "display_name": "Python 3",
   "language": "python",
   "name": "python3"
  },
  "language_info": {
   "codemirror_mode": {
    "name": "ipython",
    "version": 3
   },
   "file_extension": ".py",
   "mimetype": "text/x-python",
   "name": "python",
   "nbconvert_exporter": "python",
   "pygments_lexer": "ipython3",
   "version": "3.11.5"
  }
 },
 "nbformat": 4,
 "nbformat_minor": 2
}
